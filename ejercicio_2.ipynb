{
 "cells": [
  {
   "cell_type": "markdown",
   "metadata": {},
   "source": [
    "Crear una matriz de 2X3 con ceros utilizando la librería de Numpy\n",
    "Nota: para este ejercicio podemos utilizar la función Zeros(). Probar crear\n",
    "una nueva matriz con la función ones() y ver qué sucede.\n",
    "Para ambos casos utilizar la función print para validar la matriz."
   ]
  },
  {
   "cell_type": "code",
   "execution_count": 1,
   "metadata": {},
   "outputs": [],
   "source": [
    "import numpy as np"
   ]
  },
  {
   "cell_type": "code",
   "execution_count": 2,
   "metadata": {},
   "outputs": [
    {
     "name": "stdout",
     "output_type": "stream",
     "text": [
      "Matriz de ceros:\n",
      "[[0. 0. 0.]\n",
      " [0. 0. 0.]]\n",
      "\n",
      "Matriz de unos:\n",
      "[[1. 1. 1.]\n",
      " [1. 1. 1.]]\n"
     ]
    }
   ],
   "source": [
    "# Matriz con ceros\n",
    "matriz_ceros = np.zeros((2, 3))\n",
    "print(\"Matriz de ceros:\")\n",
    "print(matriz_ceros)\n",
    "\n",
    "# Matriz con unos\n",
    "matriz_unos = np.ones((2, 3))\n",
    "print(\"\\nMatriz de unos:\")\n",
    "print(matriz_unos)"
   ]
  }
 ],
 "metadata": {
  "kernelspec": {
   "display_name": "Python 3",
   "language": "python",
   "name": "python3"
  },
  "language_info": {
   "codemirror_mode": {
    "name": "ipython",
    "version": 3
   },
   "file_extension": ".py",
   "mimetype": "text/x-python",
   "name": "python",
   "nbconvert_exporter": "python",
   "pygments_lexer": "ipython3",
   "version": "3.11.5"
  },
  "orig_nbformat": 4
 },
 "nbformat": 4,
 "nbformat_minor": 2
}
