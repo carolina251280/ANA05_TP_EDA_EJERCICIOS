{
 "cells": [
  {
   "cell_type": "markdown",
   "metadata": {},
   "source": [
    "Utilizando la librería Math y la función trunc probar que devuelve si le paso como parámetro (1.001) y (1.999)"
   ]
  },
  {
   "cell_type": "code",
   "execution_count": 1,
   "metadata": {},
   "outputs": [],
   "source": [
    "import math"
   ]
  },
  {
   "cell_type": "code",
   "execution_count": 2,
   "metadata": {},
   "outputs": [
    {
     "name": "stdout",
     "output_type": "stream",
     "text": [
      "Resultado para el parámetro 1.001: 1\n",
      "Resultado para el parámetro 1.999: 1\n"
     ]
    }
   ],
   "source": [
    "numero1 = 1.001\n",
    "numero2 = 1.999\n",
    "\n",
    "print(\"Resultado para el parámetro 1.001:\", math.trunc(numero1))\n",
    "print(\"Resultado para el parámetro 1.999:\", math.trunc(numero2))"
   ]
  }
 ],
 "metadata": {
  "kernelspec": {
   "display_name": "Python 3",
   "language": "python",
   "name": "python3"
  },
  "language_info": {
   "codemirror_mode": {
    "name": "ipython",
    "version": 3
   },
   "file_extension": ".py",
   "mimetype": "text/x-python",
   "name": "python",
   "nbconvert_exporter": "python",
   "pygments_lexer": "ipython3",
   "version": "3.11.5"
  },
  "orig_nbformat": 4
 },
 "nbformat": 4,
 "nbformat_minor": 2
}
