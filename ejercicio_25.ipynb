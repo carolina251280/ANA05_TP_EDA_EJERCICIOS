{
 "cells": [
  {
   "cell_type": "markdown",
   "metadata": {},
   "source": [
    "Utilizando la librería Math y la función pow probar que devuelve si le paso como parámetro (12.5,2.8) y luego (144,0.5)\n"
   ]
  },
  {
   "cell_type": "code",
   "execution_count": 1,
   "metadata": {},
   "outputs": [],
   "source": [
    "import math"
   ]
  },
  {
   "cell_type": "code",
   "execution_count": 3,
   "metadata": {},
   "outputs": [
    {
     "name": "stdout",
     "output_type": "stream",
     "text": [
      "Resultado de la potencia para los siguientes valores (12.5, 2.8) es: 1178.5500657314767\n",
      "Resultado de la potencia para los siguientes valores (144, 0.5) es: 12.0\n"
     ]
    }
   ],
   "source": [
    "resultado1 = math.pow(12.5, 2.8)\n",
    "resultado2 = math.pow(144, 0.5)\n",
    "\n",
    "print(\"Resultado de la potencia para los siguientes valores (12.5, 2.8) es:\", resultado1)\n",
    "print(\"Resultado de la potencia para los siguientes valores (144, 0.5) es:\", resultado2)"
   ]
  }
 ],
 "metadata": {
  "kernelspec": {
   "display_name": "Python 3",
   "language": "python",
   "name": "python3"
  },
  "language_info": {
   "codemirror_mode": {
    "name": "ipython",
    "version": 3
   },
   "file_extension": ".py",
   "mimetype": "text/x-python",
   "name": "python",
   "nbconvert_exporter": "python",
   "pygments_lexer": "ipython3",
   "version": "3.11.5"
  },
  "orig_nbformat": 4
 },
 "nbformat": 4,
 "nbformat_minor": 2
}
